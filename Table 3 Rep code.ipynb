{
 "cells": [
  {
   "cell_type": "code",
   "execution_count": 281,
   "metadata": {},
   "outputs": [],
   "source": [
    "import pandas as pd\n",
    "import numpy as np\n",
    "import math"
   ]
  },
  {
   "cell_type": "code",
   "execution_count": 49,
   "metadata": {},
   "outputs": [],
   "source": [
    "df = pd.read_stata(\"cpsdata_wisconsin.dta\")"
   ]
  },
  {
   "cell_type": "code",
   "execution_count": 50,
   "metadata": {},
   "outputs": [
    {
     "data": {
      "text/html": [
       "<div>\n",
       "<style scoped>\n",
       "    .dataframe tbody tr th:only-of-type {\n",
       "        vertical-align: middle;\n",
       "    }\n",
       "\n",
       "    .dataframe tbody tr th {\n",
       "        vertical-align: top;\n",
       "    }\n",
       "\n",
       "    .dataframe thead th {\n",
       "        text-align: right;\n",
       "    }\n",
       "</style>\n",
       "<table border=\"1\" class=\"dataframe\">\n",
       "  <thead>\n",
       "    <tr style=\"text-align: right;\">\n",
       "      <th></th>\n",
       "      <th>year</th>\n",
       "      <th>serial</th>\n",
       "      <th>cpsid</th>\n",
       "      <th>statefip</th>\n",
       "      <th>pernum</th>\n",
       "      <th>cpsidp</th>\n",
       "      <th>relate</th>\n",
       "      <th>marst</th>\n",
       "      <th>csout</th>\n",
       "      <th>csphycus</th>\n",
       "      <th>csyrdiv</th>\n",
       "      <th>csyrmar</th>\n",
       "    </tr>\n",
       "  </thead>\n",
       "  <tbody>\n",
       "    <tr>\n",
       "      <th>0</th>\n",
       "      <td>1989</td>\n",
       "      <td>25475</td>\n",
       "      <td>1.989020e+13</td>\n",
       "      <td>Wisconsin</td>\n",
       "      <td>1</td>\n",
       "      <td>1.989020e+13</td>\n",
       "      <td>Head/householder</td>\n",
       "      <td>Never married/single</td>\n",
       "      <td>NaN</td>\n",
       "      <td>NaN</td>\n",
       "      <td>NaN</td>\n",
       "      <td>NaN</td>\n",
       "    </tr>\n",
       "    <tr>\n",
       "      <th>1</th>\n",
       "      <td>1989</td>\n",
       "      <td>25475</td>\n",
       "      <td>1.989020e+13</td>\n",
       "      <td>Wisconsin</td>\n",
       "      <td>2</td>\n",
       "      <td>1.989020e+13</td>\n",
       "      <td>Sibling</td>\n",
       "      <td>Never married/single</td>\n",
       "      <td>NaN</td>\n",
       "      <td>NaN</td>\n",
       "      <td>NaN</td>\n",
       "      <td>NaN</td>\n",
       "    </tr>\n",
       "    <tr>\n",
       "      <th>2</th>\n",
       "      <td>1989</td>\n",
       "      <td>25476</td>\n",
       "      <td>1.989020e+13</td>\n",
       "      <td>Wisconsin</td>\n",
       "      <td>1</td>\n",
       "      <td>1.989020e+13</td>\n",
       "      <td>Head/householder</td>\n",
       "      <td>Married, spouse present</td>\n",
       "      <td>NaN</td>\n",
       "      <td>NaN</td>\n",
       "      <td>NaN</td>\n",
       "      <td>NaN</td>\n",
       "    </tr>\n",
       "    <tr>\n",
       "      <th>3</th>\n",
       "      <td>1989</td>\n",
       "      <td>25476</td>\n",
       "      <td>1.989020e+13</td>\n",
       "      <td>Wisconsin</td>\n",
       "      <td>2</td>\n",
       "      <td>1.989020e+13</td>\n",
       "      <td>Spouse</td>\n",
       "      <td>Married, spouse present</td>\n",
       "      <td>NaN</td>\n",
       "      <td>NaN</td>\n",
       "      <td>NaN</td>\n",
       "      <td>NaN</td>\n",
       "    </tr>\n",
       "    <tr>\n",
       "      <th>4</th>\n",
       "      <td>1989</td>\n",
       "      <td>25477</td>\n",
       "      <td>0.000000e+00</td>\n",
       "      <td>Wisconsin</td>\n",
       "      <td>1</td>\n",
       "      <td>0.000000e+00</td>\n",
       "      <td>Head/householder</td>\n",
       "      <td>Married, spouse present</td>\n",
       "      <td>NaN</td>\n",
       "      <td>NaN</td>\n",
       "      <td>NaN</td>\n",
       "      <td>NaN</td>\n",
       "    </tr>\n",
       "  </tbody>\n",
       "</table>\n",
       "</div>"
      ],
      "text/plain": [
       "   year  serial         cpsid   statefip  pernum        cpsidp  \\\n",
       "0  1989   25475  1.989020e+13  Wisconsin       1  1.989020e+13   \n",
       "1  1989   25475  1.989020e+13  Wisconsin       2  1.989020e+13   \n",
       "2  1989   25476  1.989020e+13  Wisconsin       1  1.989020e+13   \n",
       "3  1989   25476  1.989020e+13  Wisconsin       2  1.989020e+13   \n",
       "4  1989   25477  0.000000e+00  Wisconsin       1  0.000000e+00   \n",
       "\n",
       "             relate                    marst csout csphycus  csyrdiv  csyrmar  \n",
       "0  Head/householder     Never married/single   NaN      NaN      NaN      NaN  \n",
       "1           Sibling     Never married/single   NaN      NaN      NaN      NaN  \n",
       "2  Head/householder  Married, spouse present   NaN      NaN      NaN      NaN  \n",
       "3            Spouse  Married, spouse present   NaN      NaN      NaN      NaN  \n",
       "4  Head/householder  Married, spouse present   NaN      NaN      NaN      NaN  "
      ]
     },
     "execution_count": 50,
     "metadata": {},
     "output_type": "execute_result"
    }
   ],
   "source": [
    "df.head()"
   ]
  },
  {
   "cell_type": "code",
   "execution_count": 248,
   "metadata": {},
   "outputs": [
    {
     "data": {
      "text/plain": [
       "601"
      ]
     },
     "execution_count": 248,
     "metadata": {},
     "output_type": "execute_result"
    }
   ],
   "source": [
    "out = df[(df.csout == \"Yes\") & (df.year >= 1995)]\n",
    "out.cpsid.unique().size"
   ]
  },
  {
   "cell_type": "code",
   "execution_count": 218,
   "metadata": {},
   "outputs": [],
   "source": [
    "# Out_child and Out_grandchd are the unique households with at least one kid csout == 2\n",
    "out_child = df[(df.csout == \"Yes\") & (df.year >= 1995) & (df.relate == \"Child\")].cpsid.unique()"
   ]
  },
  {
   "cell_type": "code",
   "execution_count": 219,
   "metadata": {},
   "outputs": [
    {
     "data": {
      "text/plain": [
       "501"
      ]
     },
     "execution_count": 219,
     "metadata": {},
     "output_type": "execute_result"
    }
   ],
   "source": [
    "out_child.size # Overall size is 601, child is 501"
   ]
  },
  {
   "cell_type": "code",
   "execution_count": 226,
   "metadata": {},
   "outputs": [],
   "source": [
    "out_grandchd = df[(df.csout == \"Yes\") & (df.year >= 1995) & (df.relate == \"Grandchild\")].cpsid.unique()"
   ]
  },
  {
   "cell_type": "code",
   "execution_count": 227,
   "metadata": {},
   "outputs": [
    {
     "data": {
      "text/plain": [
       "51"
      ]
     },
     "execution_count": 227,
     "metadata": {},
     "output_type": "execute_result"
    }
   ],
   "source": [
    "out_grandchd.size # Grandchild is 51"
   ]
  },
  {
   "cell_type": "code",
   "execution_count": 249,
   "metadata": {},
   "outputs": [
    {
     "data": {
      "text/plain": [
       "Child                    898\n",
       "Grandchild                77\n",
       "Other nonrelatives        60\n",
       "Housemate/roomate         13\n",
       "Other relatives, n.s.     11\n",
       "Head/householder          10\n",
       "Sibling                    6\n",
       "Roomer/boarder/lodger      1\n",
       "Foster children            0\n",
       "Unmarried partner          0\n",
       "Partner/roommate           0\n",
       "Parent                     0\n",
       "Stepchild                  0\n",
       "Spouse                     0\n",
       "Name: relate, dtype: int64"
      ]
     },
     "execution_count": 249,
     "metadata": {},
     "output_type": "execute_result"
    }
   ],
   "source": [
    "out.relate.value_counts()"
   ]
  },
  {
   "cell_type": "code",
   "execution_count": 75,
   "metadata": {},
   "outputs": [],
   "source": []
  },
  {
   "cell_type": "code",
   "execution_count": 307,
   "metadata": {},
   "outputs": [],
   "source": [
    "ever_div_hh = df[(((df.marst == \"Divorced\") | (df.marst == \"Separated\"\\\n",
    "                ) | (df.marst == \"Widowed\"))) & ((df.relate == \"Head/householder\"\\\n",
    "                    )|(df.relate == \"Spouse\")|(df.relate == \"Unmarried partner\"\\\n",
    "                                              ))][[\"cpsidp\",\"cpsid\"]].drop_duplicates()"
   ]
  },
  {
   "cell_type": "code",
   "execution_count": 308,
   "metadata": {
    "scrolled": true
   },
   "outputs": [
    {
     "data": {
      "text/plain": [
       "(4622, 2)"
      ]
     },
     "execution_count": 308,
     "metadata": {},
     "output_type": "execute_result"
    }
   ],
   "source": [
    "ever_div_hh.shape # These are ever-divorved householders (1989 - 2015)"
   ]
  },
  {
   "cell_type": "code",
   "execution_count": 309,
   "metadata": {},
   "outputs": [
    {
     "data": {
      "text/plain": [
       "360"
      ]
     },
     "execution_count": 309,
     "metadata": {},
     "output_type": "execute_result"
    }
   ],
   "source": [
    "count_hh = 0\n",
    "for i in range(ever_div_hh.shape[0]):\n",
    "    if ever_div_hh.iloc[i,1] in out_child:\n",
    "        count_hh += 1\n",
    "count_hh"
   ]
  },
  {
   "cell_type": "code",
   "execution_count": 237,
   "metadata": {},
   "outputs": [],
   "source": [
    "ever_div_child = df[((df.marst == \"Divorced\") | (df.marst == \"Separated\"\\\n",
    "                ) & (df.marst == \"Widowed\")) & (df.relate == \"Child\")][[\"cpsidp\",\"cpsid\"]].drop_duplicates()"
   ]
  },
  {
   "cell_type": "code",
   "execution_count": 238,
   "metadata": {},
   "outputs": [
    {
     "data": {
      "text/plain": [
       "0"
      ]
     },
     "execution_count": 238,
     "metadata": {},
     "output_type": "execute_result"
    }
   ],
   "source": [
    "count_child = 0\n",
    "for i in range(ever_div_child.shape[0]):\n",
    "    if ever_div_hh.iloc[i,1] in out_grandchd:\n",
    "        count_child += 1\n",
    "count_child"
   ]
  },
  {
   "cell_type": "code",
   "execution_count": null,
   "metadata": {},
   "outputs": [],
   "source": [
    "# Recent year sample"
   ]
  },
  {
   "cell_type": "code",
   "execution_count": 257,
   "metadata": {},
   "outputs": [],
   "source": [
    "df2 = df[(df.year >= 2011) & (df.year <= 2015)]"
   ]
  },
  {
   "cell_type": "code",
   "execution_count": 258,
   "metadata": {},
   "outputs": [
    {
     "data": {
      "text/plain": [
       "(17752, 12)"
      ]
     },
     "execution_count": 258,
     "metadata": {},
     "output_type": "execute_result"
    }
   ],
   "source": [
    "df2.shape"
   ]
  },
  {
   "cell_type": "code",
   "execution_count": 260,
   "metadata": {},
   "outputs": [
    {
     "data": {
      "text/plain": [
       "(1320, 12)"
      ]
     },
     "execution_count": 260,
     "metadata": {},
     "output_type": "execute_result"
    }
   ],
   "source": [
    "df2[df2.marst == \"Divorced\"].shape"
   ]
  },
  {
   "cell_type": "code",
   "execution_count": 265,
   "metadata": {},
   "outputs": [
    {
     "name": "stderr",
     "output_type": "stream",
     "text": [
      "/anaconda3/lib/python3.7/site-packages/ipykernel_launcher.py:1: UserWarning: Boolean Series key will be reindexed to match DataFrame index.\n",
      "  \"\"\"Entry point for launching an IPython kernel.\n"
     ]
    },
    {
     "data": {
      "text/plain": [
       "(1176, 12)"
      ]
     },
     "execution_count": 265,
     "metadata": {},
     "output_type": "execute_result"
    }
   ],
   "source": [
    "df2[((df2.marst == \"Divorced\")|(df.marst == \"Separated\")) & ((df2.relate == \"Head/householder\"\\\n",
    "                                                             ) | (df2.relate == \"Spouse\"))].shape"
   ]
  },
  {
   "cell_type": "code",
   "execution_count": 300,
   "metadata": {},
   "outputs": [
    {
     "data": {
      "text/plain": [
       "125"
      ]
     },
     "execution_count": 300,
     "metadata": {},
     "output_type": "execute_result"
    }
   ],
   "source": [
    "out_recent = df2[(df2.csout == \"Yes\")]\n",
    "out_recent.cpsid.unique().size"
   ]
  },
  {
   "cell_type": "code",
   "execution_count": 301,
   "metadata": {},
   "outputs": [],
   "source": [
    "out_child_recent = df2[(df2.csout == \"Yes\") & (df2.relate == \"Child\")].cpsid.unique()"
   ]
  },
  {
   "cell_type": "code",
   "execution_count": 299,
   "metadata": {},
   "outputs": [
    {
     "data": {
      "text/plain": [
       "Child                    188\n",
       "Grandchild                10\n",
       "Other nonrelatives         7\n",
       "Other relatives, n.s.      3\n",
       "Head/householder           1\n",
       "Foster children            0\n",
       "Roomer/boarder/lodger      0\n",
       "Housemate/roomate          0\n",
       "Unmarried partner          0\n",
       "Partner/roommate           0\n",
       "Sibling                    0\n",
       "Parent                     0\n",
       "Stepchild                  0\n",
       "Spouse                     0\n",
       "Name: relate, dtype: int64"
      ]
     },
     "execution_count": 299,
     "metadata": {},
     "output_type": "execute_result"
    }
   ],
   "source": [
    "out_recent.relate.value_counts()"
   ]
  },
  {
   "cell_type": "code",
   "execution_count": 314,
   "metadata": {},
   "outputs": [
    {
     "data": {
      "text/plain": [
       "75"
      ]
     },
     "execution_count": 314,
     "metadata": {},
     "output_type": "execute_result"
    }
   ],
   "source": [
    "count_hh_recent = 0\n",
    "for i in range(ever_div_hh_recent.shape[0]):\n",
    "    if ever_div_hh_recent.iloc[i,1] in out_child_recent:\n",
    "        count_hh_recent += 1\n",
    "count_hh_recent"
   ]
  },
  {
   "cell_type": "code",
   "execution_count": 313,
   "metadata": {},
   "outputs": [],
   "source": [
    "ever_div_hh_recent = df[(((df.marst == \"Divorced\") | (df.marst == \"Separated\"\\\n",
    "                ) | (df.marst == \"Widowed\"))) & ((df.relate == \"Head/householder\"\\\n",
    "                    )|(df.relate == \"Spouse\")|(df.relate == \"Unmarried partner\"\\\n",
    "                                              )) & (df.year >= 2011) & (df.year <= 2015)][[\"cpsidp\",\"cpsid\"]].drop_duplicates()"
   ]
  },
  {
   "cell_type": "code",
   "execution_count": null,
   "metadata": {},
   "outputs": [],
   "source": []
  },
  {
   "cell_type": "code",
   "execution_count": null,
   "metadata": {},
   "outputs": [],
   "source": [
    "# 2005-2009 divorce: 72 in the paper"
   ]
  },
  {
   "cell_type": "code",
   "execution_count": 273,
   "metadata": {},
   "outputs": [
    {
     "data": {
      "text/plain": [
       "50"
      ]
     },
     "execution_count": 273,
     "metadata": {},
     "output_type": "execute_result"
    }
   ],
   "source": [
    "\n",
    "df[(df.csyrdiv >= 2005) & (df.csyrdiv <= 2009)].cpsid.nunique()"
   ]
  },
  {
   "cell_type": "code",
   "execution_count": 289,
   "metadata": {},
   "outputs": [],
   "source": [
    "div0610 = df[(df.year >= 2006) & (df.year <= 2010) & (df.marst == \"Divorced\") & ((df.csyrdiv == 9999\\\n",
    "                                    )|(df.csyrdiv == 9998))].cpsid.unique()"
   ]
  },
  {
   "cell_type": "code",
   "execution_count": null,
   "metadata": {},
   "outputs": [],
   "source": []
  },
  {
   "cell_type": "code",
   "execution_count": null,
   "metadata": {},
   "outputs": [],
   "source": [
    "# Break down into csyrdiv exists VS csyrdiv missing (Q: when to include 1995 - 2015 boundary?)"
   ]
  },
  {
   "cell_type": "code",
   "execution_count": null,
   "metadata": {},
   "outputs": [],
   "source": [
    "# csyrdiv exists"
   ]
  },
  {
   "cell_type": "code",
   "execution_count": 351,
   "metadata": {},
   "outputs": [
    {
     "data": {
      "text/plain": [
       "675"
      ]
     },
     "execution_count": 351,
     "metadata": {},
     "output_type": "execute_result"
    }
   ],
   "source": [
    "df[(df.csyrdiv >= 1900) & (df.csyrdiv <= 2015)].cpsidp.nunique()"
   ]
  },
  {
   "cell_type": "code",
   "execution_count": 333,
   "metadata": {},
   "outputs": [],
   "source": [
    "div_yr_exist = df[(df.csyrdiv >= 1900) & (df.csyrdiv <= 2015)][[\"cpsidp\",\"cpsid\"]].drop_duplicates()"
   ]
  },
  {
   "cell_type": "code",
   "execution_count": 342,
   "metadata": {},
   "outputs": [
    {
     "data": {
      "text/plain": [
       "305"
      ]
     },
     "execution_count": 342,
     "metadata": {},
     "output_type": "execute_result"
    }
   ],
   "source": [
    "count_div_yr_exist = 0\n",
    "for i in range(div_yr_exist.shape[0]):\n",
    "    if div_yr_exist.iloc[i,1] in out2:\n",
    "        count_div_yr_exist += 1\n",
    "count_div_yr_exist"
   ]
  },
  {
   "cell_type": "code",
   "execution_count": null,
   "metadata": {},
   "outputs": [],
   "source": [
    "# csyrdiv missing"
   ]
  },
  {
   "cell_type": "code",
   "execution_count": 352,
   "metadata": {},
   "outputs": [
    {
     "data": {
      "text/plain": [
       "38717"
      ]
     },
     "execution_count": 352,
     "metadata": {},
     "output_type": "execute_result"
    }
   ],
   "source": [
    "df[(np.isnan(df.csyrdiv))| (df.csyrdiv == 9998) | (df.csyrdiv == 9999)].cpsidp.nunique()"
   ]
  },
  {
   "cell_type": "code",
   "execution_count": 353,
   "metadata": {},
   "outputs": [],
   "source": [
    "div_yr_missing = df[(np.isnan(df.csyrdiv))| (df.csyrdiv == 9998) | (df.csyrdiv == 9999\\\n",
    "                                                        )][[\"cpsidp\",\"cpsid\"]].drop_duplicates()"
   ]
  },
  {
   "cell_type": "code",
   "execution_count": 355,
   "metadata": {},
   "outputs": [
    {
     "data": {
      "text/plain": [
       "2033"
      ]
     },
     "execution_count": 355,
     "metadata": {},
     "output_type": "execute_result"
    }
   ],
   "source": [
    "count_div_yr_missing = 0\n",
    "for i in range(div_yr_missing.shape[0]):\n",
    "    if div_yr_missing.iloc[i,1] in out2:\n",
    "        count_div_yr_missing += 1\n",
    "count_div_yr_missing"
   ]
  },
  {
   "cell_type": "code",
   "execution_count": null,
   "metadata": {},
   "outputs": [],
   "source": []
  }
 ],
 "metadata": {
  "kernelspec": {
   "display_name": "Python 3",
   "language": "python",
   "name": "python3"
  },
  "language_info": {
   "codemirror_mode": {
    "name": "ipython",
    "version": 3
   },
   "file_extension": ".py",
   "mimetype": "text/x-python",
   "name": "python",
   "nbconvert_exporter": "python",
   "pygments_lexer": "ipython3",
   "version": "3.7.3"
  }
 },
 "nbformat": 4,
 "nbformat_minor": 2
}
